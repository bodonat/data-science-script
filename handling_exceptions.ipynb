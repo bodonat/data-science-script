{
 "cells": [
  {
   "cell_type": "markdown",
   "id": "fcce15be",
   "metadata": {},
   "source": [
    "## Handling exceptions\n",
    "* **Exception vs error:** errors cannot be handled, while exceptions can be catched at the run time. The error indicates a problem that mainly occurs due to the lack of system resources while Exceptions are the problems which can occur at runtime and compile time. It mainly occurs in the code written by the developers. An error can be a syntax error, while there can be many types of exceptions that could occur during the execution. An error might indicate critical problems that a reasonable application should not try to catch, while an exception might indicate conditions that an application should try to cacth.\n",
    "\n",
    ":::{.callout-note}\n",
    "Python uses float because with binary representation we can't represent decimal numbers. Every number is actually some approximation of some other number, and difference between representation and real value is called round-off error.\n",
    ":::\n",
    "* **Try-except-else:** the try block lets you test a block of code for errors. The except block gets executed when the error occurs. The else block lets you execute code when there is no error. \n",
    "* **Try-except-finally:** finally statement is opposite of „else“. It always executes after try and except blocks. It is used to do the clean up activities of objects/variables.\n"
   ]
  }
 ],
 "metadata": {
  "kernelspec": {
   "display_name": "Python 3 (ipykernel)",
   "language": "python",
   "name": "python3"
  },
  "language_info": {
   "codemirror_mode": {
    "name": "ipython",
    "version": 3
   },
   "file_extension": ".py",
   "mimetype": "text/x-python",
   "name": "python",
   "nbconvert_exporter": "python",
   "pygments_lexer": "ipython3",
   "version": "3.9.12"
  }
 },
 "nbformat": 4,
 "nbformat_minor": 5
}
