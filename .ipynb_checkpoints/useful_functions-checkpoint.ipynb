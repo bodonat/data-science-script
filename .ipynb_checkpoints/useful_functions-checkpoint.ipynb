{
 "cells": [
  {
   "cell_type": "markdown",
   "id": "1d889115",
   "metadata": {},
   "source": [
    "## Useful functions\n",
    "* map(): works as an iterator to return a result after applying a function to every item of an iterable. It is used when you want to apply a single transformation function to all the iterable elements."
   ]
  },
  {
   "cell_type": "code",
   "execution_count": 1,
   "id": "c49145d3",
   "metadata": {},
   "outputs": [],
   "source": [
    "numbers = (1,2,3,4)\n",
    "squared_numbers = map(lambda n: n**2, numbers)\n",
    "\n",
    "# list(squared_numbers) = [1, 4, 9, 16]"
   ]
  },
  {
   "cell_type": "markdown",
   "id": "d2c35aae",
   "metadata": {},
   "source": [
    "* filter(): is a function that extracts elements from an iterable for which a function returns True. It takes a function and some iterable (set, list, tuple,..) and returns a filter object."
   ]
  },
  {
   "cell_type": "code",
   "execution_count": 2,
   "id": "4e1d8053",
   "metadata": {},
   "outputs": [],
   "source": [
    "def check_even(number):\n",
    "    if number % 2 == 0:\n",
    "        return True  \n",
    "\n",
    "    return False\n",
    "\n",
    "numbers = [1, 2, 3, 4, 5, 6, 7, 8, 9, 10]\n",
    "even_numbers = filter(check_even, numbers)\n",
    "\n",
    "# list(even_numbers) = [2, 4, 6, 8, 10]"
   ]
  },
  {
   "cell_type": "markdown",
   "id": "7fc67af8",
   "metadata": {},
   "source": [
    "* reduce(): does not return a new list based on the function and iterable we've passed. Instead, it returns a single value. It can be found in functools module."
   ]
  },
  {
   "cell_type": "code",
   "execution_count": 3,
   "id": "adf7a56d",
   "metadata": {},
   "outputs": [],
   "source": [
    "from functools import reduce\n",
    "\n",
    "a = [1, 2, 3, 4]\n",
    "result = reduce(lambda x,y: x*y, a)\n",
    "\n",
    "# result = 24"
   ]
  },
  {
   "cell_type": "markdown",
   "id": "6cdb9153",
   "metadata": {},
   "source": [
    ":::{.callout-tip}\n",
    "For map(), filter() and reduce() functions it is more convenient, if possible, to use lambda functions as argument.\n",
    ":::\n",
    "\n",
    "* zip(): creates an iterator that will aggregate elements from two or more iterables"
   ]
  },
  {
   "cell_type": "code",
   "execution_count": 4,
   "id": "145bc7a3",
   "metadata": {},
   "outputs": [],
   "source": [
    "list1 = [\"a\", \"b\", \"c\"]\n",
    "list2 = [1, 2, 3]\n",
    "dict_result = {key: val for key, val in zip(list1, list2)}\n",
    "\n",
    "# dict_result = {'a': 1, 'b': 2, 'c': 3}"
   ]
  },
  {
   "cell_type": "markdown",
   "id": "ca863f6b",
   "metadata": {},
   "source": [
    ":::{.callout-tip}\n",
    "Instead of bunch of print statements use logging module.\n",
    ":::\n",
    "\n",
    "* partial(): this function allows us to fix a certain number of arguments of a function and generate a new function."
   ]
  },
  {
   "cell_type": "code",
   "execution_count": 5,
   "id": "0f4c81f6",
   "metadata": {},
   "outputs": [],
   "source": [
    "from functools import partial\n",
    "\n",
    "def f(a, b, c, x):\n",
    "    return 1000*a + 100*b + 10*c + x\n",
    "\n",
    "g = partial(f, 3, 1, 4)\n",
    "\n",
    "# g(1) = 3141"
   ]
  },
  {
   "cell_type": "markdown",
   "id": "f7eb3425",
   "metadata": {},
   "source": [
    "* argsort(): returns the indices of array elements that would sort an array\n",
    "* *del* method can be used for erasing variable from memory, or just one variable from a list (instead of *remove()*)\n",
    "* arange(): returns list of numbers in a given range\n",
    "* random.shuffle(): randomise the elements\n",
    "* random.choice(): returns random element\n",
    "* list.pop(index): deletes and returns the element from a list with specified index\n",
    "* list.remove(index): deletes the element from a list with specified index\n",
    "* isinstance(): checks data type\n",
    "* any(): returns True if any item in an iterable is true, otherwise False\n",
    "* all(): returns True if all items in an iterable are true, otherwise False\n",
    "* np.hstack(): stack arrays in sequence horizontally\n",
    "* np.vstack(): stack arrays in sequence vertically"
   ]
  },
  {
   "cell_type": "markdown",
   "id": "9c9dddf2",
   "metadata": {},
   "source": [
    "## Working with files\n",
    "\n",
    "* \"with open(„some.txt“) as f\" takes care of closing the file\n",
    "* .write(), .read(), .close(), .readlines()\n",
    "* For faster loading it is commonly to use numpy package:   np.savetxt('some.txt', np.array(), fmt='%.2f', header='..'), np.loadtxt('some.txt')"
   ]
  },
  {
   "cell_type": "markdown",
   "id": "5df88adb",
   "metadata": {},
   "source": [
    "## Working with dataframes\n",
    "\n",
    "* Combining dataframes in pandas: append() (for horizontal stacking) and concat() (for vertical stacking)\n",
    "* Identifying missing values: isnull() and isna()\n",
    "* Handling missing values: fillna()\n",
    "* Creating missing values for known indexes: pd.DataFrame(index=..., columns=...)\n",
    "* df.query(): for extracting data with specified conditions\n",
    "* When you want to create a new df based on a subset of your initial df, it's best to use the copy() method\n",
    "* Pandas also has str() method\n",
    "* Renaming columns: better to use .rename() function\n",
    "* Setting index to a column: df.set_index(['some']) (it removes column automatically)\n",
    "* DataFrame.plot makes plots of Series or DataFrame. There is various kinds of plot to produce and can be assigned in „kind“ parameter. Options are: 'line' (default), 'bar', 'barh', 'hist', 'box', 'kde'/'density', 'area', 'pie', 'scatter', 'hexbin''"
   ]
  }
 ],
 "metadata": {
  "kernelspec": {
   "display_name": "Python 3 (ipykernel)",
   "language": "python",
   "name": "python3"
  },
  "language_info": {
   "codemirror_mode": {
    "name": "ipython",
    "version": 3
   },
   "file_extension": ".py",
   "mimetype": "text/x-python",
   "name": "python",
   "nbconvert_exporter": "python",
   "pygments_lexer": "ipython3",
   "version": "3.9.12"
  }
 },
 "nbformat": 4,
 "nbformat_minor": 5
}
