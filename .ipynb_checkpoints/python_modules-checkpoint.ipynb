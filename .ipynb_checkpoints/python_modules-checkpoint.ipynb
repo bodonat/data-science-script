{
 "cells": [
  {
   "cell_type": "markdown",
   "id": "377d2ff2",
   "metadata": {},
   "source": [
    "## Modules\n",
    "* **itertools** module, for different iterations\n",
    "* **counter** is a dict subclass for counting hashable objects. It is a collection where elements are stored as dictionary keys and their counts are stored as dictionary values. Counts are allowed to be any integer value including zero or negative counts. It is a Pythonic way to count objects. \n",
    "\n",
    "    from collections import Counter\n",
    "  +\tupdate(): for adding elements\n",
    "  +\telements(): for restoring elements (Counter remembers the insertion order of its keys as a feature inherited from dict)\n",
    "  +\tsubtract(): for removing elements\n",
    "  +\tmost_common(), &, |, +, -\n"
   ]
  },
  {
   "cell_type": "markdown",
   "id": "33efe7c1",
   "metadata": {},
   "source": [
    "* File related modules: **os, os.path, shutil.os**\n",
    "* **Pickle module** accepts any Python object and converts it into a string representation and dumps it into a file by using dump function. This process is called pickling. While the process of retrieving original Python objects from the stored string representation is called unpickling.\n",
    "* **operator** module exports a set of efficient functions corresponding to the intrinsic operators of Python. The functions fall into categories that perform object comparisons, logical operations, mathematical operations and sequence operations. This functions are handy in cases where callables must be stored, passed as arguments (egz. For map(), sorted(), itertools, groupby()), or returned as function results. Probably the most used function is .itemgetter() with which you can sort some list of tuples, or dict,.. with specified key, and is also faster than sort function. It is also more clearable than lambda function when sending as an argument\n",
    "\n",
    "    egz. If you want to sort some lists/dict first by 2nd element and then by 1st element, you can use key=itemgetter(1,0).\n",
    "* **numpy** stands for numerical python and it is used for general numeric computations on numerical data saved in arrays. Provides vectorization of mathematical operations on arrays and matrices\n",
    "* **scipy** stands for scientific python. Collection of algorithms for linear algebra, solving differential equations, numerical integration, optimization, statistics and more.. (built on numpy)\n",
    "* **pandas** adds data structures and tools designed to work with table-like data. Provides tools for data manipulation: reshaping, merging, sorting, slicing, aggregations.. allows handling missing data. Used to implement ETL (extracting, transforming and loading the datasets)\n",
    "* **sklearn** provides machine learning algorithms: classification, regression, clustering, model validation, etc... (built on numpy, scipy and matplotlib)\n",
    "* **matplotlib** is 2D plotting library which produces publication quality figures in a variety of hardcopy formats. A set of functionalities similar to those of MATLAB. Has line plots, scatter plots, barcharts, histograms, pie charts, etc..\n",
    "* **seaborn** provides high level interface for drawing attractive statistical graphs.. (based on matplotlib)"
   ]
  }
 ],
 "metadata": {
  "kernelspec": {
   "display_name": "Python 3 (ipykernel)",
   "language": "python",
   "name": "python3"
  },
  "language_info": {
   "codemirror_mode": {
    "name": "ipython",
    "version": 3
   },
   "file_extension": ".py",
   "mimetype": "text/x-python",
   "name": "python",
   "nbconvert_exporter": "python",
   "pygments_lexer": "ipython3",
   "version": "3.9.12"
  }
 },
 "nbformat": 4,
 "nbformat_minor": 5
}
