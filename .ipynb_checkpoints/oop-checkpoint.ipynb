{
 "cells": [
  {
   "cell_type": "markdown",
   "id": "e77add72",
   "metadata": {},
   "source": [
    "## Object oriented programming\n",
    "4 basic building elements of OOP: \n",
    "\n",
    "a)\t**Inheritance** provides code reusability. We have single, multi-level, multiple (more than one base class) and hierarchical (when more than one derived class are created from a single base)"
   ]
  },
  {
   "cell_type": "code",
   "execution_count": 1,
   "id": "ba9c4cd9",
   "metadata": {},
   "outputs": [],
   "source": [
    "# egz. of inheritance and use of super() function\n",
    "\n",
    "class Class():\n",
    "    def __init__(self, x):\n",
    "        print(x)\n",
    "\n",
    "class SubClass(Class):\n",
    "    def __init__(self, x, y):\n",
    "        self.y = y\n",
    "        super().__init__(x) "
   ]
  },
  {
   "cell_type": "markdown",
   "id": "78490f66",
   "metadata": {},
   "source": [
    "b)\t**Polymorphism** means the ability to take multiple forms. So if the parent class has a method named ABC then the child class also can have a method with the same name ABC having its own parameters and variables.\n",
    "c)\t**Encapsulation** is a process of wrapping data and functions that perform actions on the data into a single entity. A single unit is referred to as a class. To access the values, the class usually provides publicly accessible methods (setters and getters). Technique that hides implementation details.\n",
    "d)\t**Abstraction** is used to hide something too, but in a higher degree (class, interface). Clients who use an abstract class do not care about what it was, they just need to know what it can do.\n",
    "\n",
    "Other notes\n",
    "\n",
    "* **__init__** is a method that is automatically called to allocate memory when a new object (i.e. instance of a class) is created. It acts as a constructor which gets executed when a new object is instantiated and allows the class to classify its attributes.\n",
    "* **self** is an object of a class. The self variable in the init method refers to the newly created object, while in other methods it refers to the object whose method was called. It is used to refer to the object properties of a class.\n",
    "* **object()** returns featureless object that is a base for all classes\n",
    "\n",
    ":::{.callout-note}\n",
    "As Python has no concept of private variables, leading underscores are used to indicate variables that must not be accessed from outside the class.\n",
    ":::\n",
    "* **Named Tuple** can be a great alternative to construct a class. It is an extension of the Python built-in tuple data type, which is structure for grouping objects with different types. When you access an attribute of the built-in tuple, you need to know its index. Named Tuple allows us to give names to the elements, so we can access the attributes by both attribute name and its index. It is good practice to use classes constructed like this when we have a function that takes more than 3 arguments, which is too much. Then it is better to pack most of the arguments into a class."
   ]
  },
  {
   "cell_type": "code",
   "execution_count": 2,
   "id": "4f12c7ee",
   "metadata": {},
   "outputs": [],
   "source": [
    "from typing import NamedTuple\n",
    "\n",
    "class Transaction(NamedTuple):\n",
    "    sender: str\n",
    "    receiver: str\n",
    "    date: str"
   ]
  },
  {
   "cell_type": "markdown",
   "id": "4f92e0be",
   "metadata": {},
   "source": [
    "* **Class attributes** belong to every instance of some class. They are defined outside of __init__ function. So they are different from instance attributes.\n",
    "* **Decorator** is a design pattern that allows a user to add new functionality to an existing object without modifying its structure. They are usually called before the definition of a function you want to decorate. Decorator takes in a function and returns it by adding some functionality. A few good examples for using decorators are when you want to add logging, test performance, perform caching, verify permissions..."
   ]
  },
  {
   "cell_type": "code",
   "execution_count": 5,
   "id": "3dc51d81",
   "metadata": {},
   "outputs": [],
   "source": [
    "def make_pretty(func):\n",
    "    def inner():\n",
    "        print(\"I got decorated\")\n",
    "        func()\n",
    "    return inner\n",
    "\n",
    "@make_pretty\n",
    "def ordinary():\n",
    "    print(\"I am ordinary\")\n",
    "\n",
    "# ordinary()\n",
    "# Output: \n",
    "#   I got decorated\n",
    "#   I am ordinary "
   ]
  },
  {
   "cell_type": "markdown",
   "id": "94b6274b",
   "metadata": {},
   "source": [
    "* **Generator** is a function that returns an iterator that produces a sequence of values when iterated over. Instead of return statement we use the „yield“ statement. The yield keyword is used to produce a value from the generator and pause the generator function's execution until the next value is requested. When the generator function is called, it returns a generator object that can be iterated over to produce the values. They are more memory-efficient than storing an entire sequence in memory (for egz. Iterators)."
   ]
  },
  {
   "cell_type": "code",
   "execution_count": 6,
   "id": "2c5e545a",
   "metadata": {},
   "outputs": [],
   "source": [
    "def my_generator(n):\n",
    "    value = 0\n",
    "    while value < n:\n",
    "        yield value\n",
    "        value += 1"
   ]
  },
  {
   "cell_type": "markdown",
   "id": "72e0e3d8",
   "metadata": {},
   "source": [
    ":::{.callout-tip}\n",
    "Concise way for writing a generator is generator expression that looks like a list comprehension.\n",
    ":::"
   ]
  }
 ],
 "metadata": {
  "kernelspec": {
   "display_name": "Python 3 (ipykernel)",
   "language": "python",
   "name": "python3"
  },
  "language_info": {
   "codemirror_mode": {
    "name": "ipython",
    "version": 3
   },
   "file_extension": ".py",
   "mimetype": "text/x-python",
   "name": "python",
   "nbconvert_exporter": "python",
   "pygments_lexer": "ipython3",
   "version": "3.9.12"
  }
 },
 "nbformat": 4,
 "nbformat_minor": 5
}
