{
 "cells": [
  {
   "cell_type": "markdown",
   "id": "d1110a87",
   "metadata": {},
   "source": [
    "## Intro\n",
    "\n",
    "Python is an interpreted language. Developer does not assign data types to variables at the time of coding, i.e. it automatically gets assigned during execution. Everything in Python is considered as an object (it has an ID, a type, and a value), even functions.\n",
    "\n",
    "All Python objects and data structures are located in a private heap and the programmer does not have access to it. The Python interpreter takes care of this instead. The allocation of heap space for objects is done by Python's memory manager. Python also has an inbuilt garbage collector, which recycles all the unused memory and so it can be made available to the heap space.\n",
    "\n",
    "Modules vs packages vs libraries. A Python module can be simple Python file, i.e. a combination of numerous functions and global variables. A Python package is a collection of different Python modules (like a directory of modules). Python libraries are a collection of Python packages.\n",
    "\n",
    "Functions in Python are „first class citizens“. This means that they support operations such as being passed as an argument, returned from a function, modified and assigned to a variable. For arguments, we use * args when we aren't sure how many arguments are going to be passed, or if we want to pass a stored list or tuple of arguments to a function. Also, ** kwargs is used when we don't know how many keyword arguments will be passed to a function, or it can be used to pass the values of a dictionary as keyword arguments. The identifiers are conventional, you could also use * bob and ** billy. A function produces a „side effect“ if it does anything other than take a value in and return another value/s. For egz., it could be writing to a file, modifying some global variable.. Sometimes you need to have side effects in a program and in these cases you should centralize and indicate where you are incorporating side effect with *global* keyword near the targeted variable. \n",
    "\n",
    ":::{.callout-tip}\n",
    "When writing a function, it is recommended to put description in “““ “““, so when you later type: “?“ you get that same description of a function.\n",
    ":::\n",
    "\n",
    ":::{.callout-tip}\n",
    "For cleaner code, function needs to do only what is described in its name. \n",
    ":::\n",
    "\n",
    "* *locals()* and *globals()* functions write out all local and global variables inside the function they are called. \n"
   ]
  },
  {
   "cell_type": "markdown",
   "id": "a502ddc1",
   "metadata": {},
   "source": [
    "*   **Namespace** is a collection of currently defined symbolic names along with information about the object that each name references. An assignment statement creates a symbolic name that you can use to reference an object. The statement x='foo', creates a symbolic name x that refers to the string object 'foo'. It is a naming system used to make sure that names are unique to avoid naming conflicts. There are four types of namespaces with differing lifetimes: built-in, global, enclosing, local.\n",
    "\n",
    "    Little more on the local and enclosing namespaces. The interpreter creates a new namespace whenever a function executes. That namespace is local to the function and remains in existence until the function terminates. When there is function defined inside other function, outer function is called enclosing function, and inner is called enclosed function. So, the namespace created for enclosing function is called enclosing namespace.\n",
    "\n",
    "* **Built-in types:** integers, floating-point, complex numbers, strings, boolean, built-in functions\n",
    "* **A literal** represents a fixed value for primitive data types. There are 5 types of literals in Python: string, numeric, boolean, literal collections (list compreh., tuple, dict, set, None).\n",
    "\n",
    "Iterable, ordered, mutable and hashable (and their opposites) are characteristics for describing Python objects or data types.\n",
    "\n",
    "* List, tuples, dicts and sets are all **iterable objects**. They are iterable containers which you can get an iterator from. All these objects have iter() method which is used to get an iterator.\n",
    "* **Ordered vs unordered:** in unordered types you don't have direct access to elements (sets, frozensets, ..)\n",
    "\n",
    "+ **Frozen set** is immutable type of set. Set is a mutable data type since we can modify it by adding or removing items from it.\n",
    "* **Imutable and mutable:** id and type of an object never changes, but value can either change or not. Mutables are: lists, arrays, sets and dictionaries. Immutables are: numeric data types (integers, and other built-in numeric data such as booleans, floats, complex numbers, fractions and decimals), strings, bytes, frozen sets and tuples.\n",
    "* **Hashable** is a feature of Python objects that tells if the object has a hash value or not. Hash value is a numeric value of fixed length that uniquely identifies data. If the object has a hash value then it can be used as a key for dictionary or as an element in a set. An object is hashable if it has a hash value that does not change during its entire lifetime. Almost all immutable objects are hashable, i.e. all built-in types has a hash method. Unhashable are: dict, list and set."
   ]
  },
  {
   "cell_type": "markdown",
   "id": "cacb1898",
   "metadata": {},
   "source": [
    "Some differences betwen:\n",
    "\n",
    "1) Tuples and lists:\n",
    "   a) Tuples are immutable, lists aren't\n",
    "   b) Tuples are faster and they consume less memory\n",
    "   c) Tuples don't consist of any built-in functions\n",
    "\n",
    "2) Lists and arrays:\n",
    "   a) Unlike lists, arrays can only hold a single datatype\n",
    "   b) Both of them have the same way of storing data\n",
    "   c) Lists are recommended to use for shorter sequence \n",
    "   d) For printing, lists can be printed entirely, but arrays need to loop to be defined to print or access the components\n",
    "\n",
    "3) Lists and numpy arrays:\n",
    "   a) Lists support insertion, deletion, appending and concatenation, but don't support vectorized operations like numpy arrays\n",
    "   b) List comprehensions make them easy to construct\n",
    "   c) Numpy arrays are faster\n",
    "   d) The fact that lists can contain objects of different types mean that Python must store type information for every element"
   ]
  },
  {
   "cell_type": "markdown",
   "id": "8ce2ed30",
   "metadata": {},
   "source": [
    "* **Shallow vs deep copy**. In Python, assignment statements do not copy objects, they create bindings between a target and an object. When we use the = operator, it only cretes a new variable that shares the reference of the original object. So, if you edit the new list, changes will be reflected on the original list."
   ]
  },
  {
   "cell_type": "code",
   "execution_count": 2,
   "id": "e0337262",
   "metadata": {},
   "outputs": [],
   "source": [
    "# egz. 1\n",
    "list_A = [1, 2, 3]\n",
    "list_B = list_A\n",
    "list_B.append(4)\n",
    "\n",
    "# list_A = [1, 2, 3, 4]"
   ]
  },
  {
   "cell_type": "code",
   "execution_count": 17,
   "id": "b331558a",
   "metadata": {},
   "outputs": [],
   "source": [
    "# egz. 2\n",
    "list_of_lists_A = [[1, 2], [3, 4]]\n",
    "list_of_lists_B = list_of_lists_A\n",
    "\n",
    "list_of_lists_B.append([5, 6])\n",
    "# list_of_lists_B = [[1, 2], [3, 4], [5, 6]]\n",
    "# list_of_lists_A = [[1, 2], [3, 4], [5, 6]]"
   ]
  },
  {
   "cell_type": "markdown",
   "id": "0d653270",
   "metadata": {},
   "source": [
    "In order to create „real copies“ or „clones“ of these objects, we can use the copy module. A shallow copy creates a new compound object (object that contain other objects, like lists or class instances) and elements in the new object are referenced to the original elements. Changes made in any member of the class will also affect the original copy of it. But, since it creates a new object, changes like adding or removing items won't affect the original list, i.e. new list has its own pointer, but its elements don't. In the case of deep copy, a copy of the object is copied into another object. It means that any changes made to a copy of the object do not reflect in the original object. Copy() returns a shallow copy of the list (list[:] also works), and deepcopy() returns the deep copy."
   ]
  },
  {
   "cell_type": "code",
   "execution_count": 10,
   "id": "7a875c18",
   "metadata": {},
   "outputs": [],
   "source": [
    "#  shallow copy\n",
    "import copy\n",
    "\n",
    "list_of_lists_A = [[1, 2], [3, 4]]\n",
    "list_of_lists_B = copy.copy(list_of_lists_A)\n",
    "\n",
    "list_of_lists_B.append([5, 6])\n",
    "# list_of_lists_B = [[1, 2], [3, 4], [5, 6]]\n",
    "# list_of_lists_A = [[1, 2], [3, 4]]\n",
    "\n",
    "list_of_lists_B[1].append(5)\n",
    "# list_of_lists_B = [[1, 2], [3, 4, 5], [5, 6]]\n",
    "# list_of_lists_A = [[1, 2], [3, 4, 5]]"
   ]
  },
  {
   "cell_type": "code",
   "execution_count": 14,
   "id": "bc35d36e",
   "metadata": {},
   "outputs": [],
   "source": [
    "# deep copy\n",
    "import copy\n",
    "\n",
    "list_of_lists_A = [[1, 2], [3, 4]]\n",
    "list_of_lists_B = copy.deepcopy(list_of_lists_A)\n",
    "\n",
    "list_of_lists_B[1].append(5)\n",
    "# list_of_lists_B = [[1, 2], [3, 4, 5]]\n",
    "# list_of_lists_A = [[1, 2], [3, 4]]"
   ]
  },
  {
   "cell_type": "markdown",
   "id": "c89cd2ba",
   "metadata": {},
   "source": [
    "* **Lambda=annonymous function.** It is similar to the inline function in c programming. It returns a function object and can also be used in the place of a variable.\n",
    "* **Ternary operator** is one-line version of the if-else statement to test a condition\n",
    "* **pass statement** is used as a placeholder for future code.\n",
    "* **assert statement** allows you to test if certain assumptions remain true while you are developing your code. Assertions are a convenient tool for documenting, debugging and testing code during development. With assertions, you can set checks to make sure that invariants within your code stay invariant. By doing so, you can check assumptions like preconditions and postconditions. \n",
    "* **Pickle module** accepts any Python object and converts it into a string representation and dumps it into a file by using dump function. This process is called pickling. While the process of retrieving original Python objects from the stored string representation is called unpickling."
   ]
  }
 ],
 "metadata": {
  "kernelspec": {
   "display_name": "Python 3 (ipykernel)",
   "language": "python",
   "name": "python3"
  },
  "language_info": {
   "codemirror_mode": {
    "name": "ipython",
    "version": 3
   },
   "file_extension": ".py",
   "mimetype": "text/x-python",
   "name": "python",
   "nbconvert_exporter": "python",
   "pygments_lexer": "ipython3",
   "version": "3.9.12"
  }
 },
 "nbformat": 4,
 "nbformat_minor": 5
}
